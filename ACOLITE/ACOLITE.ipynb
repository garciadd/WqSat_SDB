{
 "cells": [
  {
   "cell_type": "code",
   "execution_count": null,
   "metadata": {},
   "outputs": [],
   "source": [
    "import sys, os, time\n",
    "\n",
    "user_home = os.path.expanduser(\"/home\")\n",
    "acolite = 'acolite20220222'\n",
    "# acolite = 'acolite20221114'\n",
    "sys.path.append(os.path.join(user_home, acolite))\n",
    "import acolite as ac"
   ]
  },
  {
   "cell_type": "code",
   "execution_count": null,
   "metadata": {},
   "outputs": [],
   "source": [
    "tiles = ['S2B_MSIL1C_20180917T103019_N0206_R108_T31SED_20180917T161011',\n",
    "         'S2B_MSIL1C_20180920T104019_N0206_R008_T31SED_20180920T143638',\n",
    "         'S2B_MSIL1C_20180930T104019_N0206_R008_T31SED_20180930T161005',\n",
    "         'S2A_MSIL1C_20181002T103021_N0206_R108_T31SED_20181002T142247',\n",
    "         'S2B_MSIL1C_20181017T103019_N0206_R108_T31SED_20181017T142233',\n",
    "        'S2A_MSIL1C_20181025T104121_N0206_R008_T31SED_20181025T125227']"
   ]
  },
  {
   "cell_type": "code",
   "execution_count": null,
   "metadata": {},
   "outputs": [],
   "source": [
    "for i, tile in enumerate(tiles):\n",
    "    \n",
    "    print('Tile {} ... {}/{}'.format(tile, i+1, len(tiles)))\n",
    "    tile_path = '***'\n",
    "    \n",
    "    output_tile = '***'\n",
    "    if not os.path.isdir(output_tile):\n",
    "        os.makedirs(output_tile)\n",
    "    else:\n",
    "        continue\n",
    "\n",
    "    ## ACOLITE settings\n",
    "    settings = {\"inputfile\":tile_path,\n",
    "                \"output\":output_tile,\n",
    "                \n",
    "                ## atmospheric correction algorithms\n",
    "                \"aerosol_correction\":\"dark_spectrum\",\n",
    "                \"dsf_aot_estimate\":\"tiled\",\n",
    "\n",
    "                ## output l2w parameters\n",
    "                \"l2w_parameters\":[\"Rrs_*\", \"chl_oc3\"],\n",
    "\n",
    "                ## output resolution (S2 only 10, 20, or 60 m) \n",
    "                \"s2_target_res\":10,\n",
    "\n",
    "                ## increase default L2W masking threshold\n",
    "                \"l2w_mask_threshold\":0.05,\n",
    "                \"l2w_mask_negative_rhow\":True,\n",
    "                \"dsf_residual_glint_correction\":True,\n",
    "\n",
    "                ## output RGB / L2W maps\n",
    "                \"rgb_rhot\":False,\n",
    "                \"rgb_rhos\":False,\n",
    "                \"map_l2w\":False,\n",
    "\n",
    "                ## GeoTIFF export options\n",
    "                \"l2r_export_geotiff\":False,\n",
    "                \"l2w_export_geotiff\":True,\n",
    "               \n",
    "                ## Deletion of NetCDF files\n",
    "                \"l1r_delete_netcdf\":True,\n",
    "                \"l2r_delete_netcdf\":True,\n",
    "                \"l2w_delete_netcdf\":True,\n",
    "               \n",
    "                ##amount of detail in the terminal outputs\n",
    "                \"verbosity\":2}\n",
    "\n",
    "    ac.acolite.acolite_run(settings=settings)"
   ]
  }
 ],
 "metadata": {
  "kernelspec": {
   "display_name": ".venv",
   "language": "python",
   "name": "python3"
  },
  "language_info": {
   "name": "python",
   "version": "3.10.12"
  }
 },
 "nbformat": 4,
 "nbformat_minor": 2
}
