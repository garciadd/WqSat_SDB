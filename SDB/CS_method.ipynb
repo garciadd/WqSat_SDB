{
 "cells": [
  {
   "cell_type": "code",
   "execution_count": null,
   "metadata": {},
   "outputs": [],
   "source": [
    "import os, re\n",
    "import pickle\n",
    "import numpy as np\n",
    "import pandas as pd\n",
    "import random\n",
    "\n",
    "#matplotlib\n",
    "import matplotlib\n",
    "import matplotlib.patches as patches\n",
    "import matplotlib.pyplot as plt\n",
    "import matplotlib.cm as cm\n",
    "from matplotlib.cm import ScalarMappable\n",
    "font = {'family' : 'serif',\n",
    "        'style' : 'normal',\n",
    "        'size'   : 20}\n",
    "\n",
    "matplotlib.rc('font', **font)\n",
    "\n",
    "import matplotlib.colors as mc\n",
    "from mpl_toolkits.axes_grid1 import make_axes_locatable\n",
    "\n",
    "#scipy\n",
    "from scipy import ndimage\n",
    "from scipy.stats import gaussian_kde\n",
    "\n",
    "import rioxarray\n",
    "import xarray\n",
    "import rasterio\n",
    "import xarray as xr\n",
    "\n",
    "## GDAL\n",
    "from osgeo import gdal, osr, ogr\n",
    "\n",
    "import utils\n",
    "import CS_method"
   ]
  },
  {
   "cell_type": "code",
   "execution_count": null,
   "metadata": {},
   "outputs": [],
   "source": [
    "region = 'CalaMillor'\n",
    "year = '2018'\n",
    "data_path = '***'"
   ]
  },
  {
   "cell_type": "markdown",
   "metadata": {},
   "source": [
    "## Bathymetry"
   ]
  },
  {
   "cell_type": "code",
   "execution_count": null,
   "metadata": {},
   "outputs": [],
   "source": [
    "## In-situ bathymetry\n",
    "file = '{}_Insitu_bathymetry_EPSG32631_{}.tif'.format(region, year)\n",
    "bathymetry, BBox, crs = utils.load_geotiff(os.path.join(data_path, 'InSitu', file))\n",
    "mx = np.ma.masked_invalid(bathymetry)\n",
    "\n",
    "## transform coordinates\n",
    "new_ul = utils.transform_coordinates(BBox[0], inputEPSG=crs, outputEPSG=4326)\n",
    "new_lr = utils.transform_coordinates(BBox[1], inputEPSG=crs, outputEPSG=4326)\n",
    "\n",
    "# ROI\n",
    "roi_coord = {'N': new_ul[0], 'W': new_ul[1], 'S': new_lr[0], 'E': new_lr[1]}"
   ]
  },
  {
   "cell_type": "markdown",
   "metadata": {},
   "source": [
    "## Temporal Composite"
   ]
  },
  {
   "cell_type": "code",
   "execution_count": null,
   "metadata": {},
   "outputs": [],
   "source": [
    "tiles = ['S2B_MSIL1C_20180917T103019_N0206_R108_T31SED_20180917T161011',\n",
    "         'S2B_MSIL1C_20180920T104019_N0206_R008_T31SED_20180920T143638',\n",
    "         'S2B_MSIL1C_20180930T104019_N0206_R008_T31SED_20180930T161005',\n",
    "         'S2A_MSIL1C_20181002T103021_N0206_R108_T31SED_20181002T142247',\n",
    "         'S2B_MSIL1C_20181017T103019_N0206_R108_T31SED_20181017T142233', \n",
    "         'S2A_MSIL1C_20181025T104121_N0206_R008_T31SED_20181025T125227']"
   ]
  },
  {
   "cell_type": "code",
   "execution_count": null,
   "metadata": {},
   "outputs": [],
   "source": [
    "Zgr, Zr, Rs492, Rs559, Rs704, chl, coord = CS_method.composite_approach(tiles, roi_coord)\n",
    "\n",
    "Zgr = ndimage.median_filter(Zgr, size=3)\n",
    "Zgr[mx.mask] = np.nan\n",
    "\n",
    "Zr = ndimage.median_filter(Zr, size=3)\n",
    "Zr[mx.mask] = np.nan\n",
    "\n",
    "Rs492[mx.mask] = np.nan\n",
    "Rs559[mx.mask] = np.nan\n",
    "Rs704[mx.mask] = np.nan\n",
    "chl[mx.mask] = np.nan"
   ]
  },
  {
   "cell_type": "markdown",
   "metadata": {},
   "source": [
    "## Outliers"
   ]
  },
  {
   "cell_type": "code",
   "execution_count": null,
   "metadata": {},
   "outputs": [],
   "source": [
    "low_limit, upp_limit = utils.iq_outliers(Zgr)\n",
    "Zgr[Zgr < low_limit] = np.nan\n",
    "Zgr[Zgr > upp_limit] = np.nan"
   ]
  },
  {
   "cell_type": "code",
   "execution_count": null,
   "metadata": {},
   "outputs": [],
   "source": [
    "low_limit, upp_limit = utils.iq_outliers(Zr)\n",
    "Zr[Zr < low_limit] = np.nan\n",
    "Zr[Zr > upp_limit] = np.nan"
   ]
  },
  {
   "cell_type": "markdown",
   "metadata": {},
   "source": [
    "## Calibration"
   ]
  },
  {
   "cell_type": "code",
   "execution_count": null,
   "metadata": {},
   "outputs": [],
   "source": [
    "n = random.sample(range(0, bathymetry.shape[0]), 12)\n",
    "m = np.arange(0, bathymetry.shape[1], 3)\n",
    "\n",
    "green_coefs = []\n",
    "red_coefs = []\n",
    "for i in n:\n",
    "\n",
    "    Zgr_val = Zgr[i, m]\n",
    "    Zr_val = Zr[i, m]\n",
    "    depth_val = -bathymetry[i, m]\n",
    "\n",
    "    #Zgreen\n",
    "    mx = np.ma.masked_invalid(Zgr_val)\n",
    "    Zgr_val = Zgr_val[~mx.mask]\n",
    "    green_depth = depth_val[~mx.mask]\n",
    "\n",
    "    ## linear regresion\n",
    "    green_coefs.append(np.polyfit(Zgr_val, green_depth, 1))\n",
    "\n",
    "    #Zred\n",
    "    mx = np.ma.masked_invalid(Zr_val)\n",
    "    Zr_val = Zr_val[~mx.mask]\n",
    "    red_depth = depth_val[~mx.mask]\n",
    "\n",
    "    Zr_val = Zr_val[red_depth < 5]\n",
    "    red_depth = red_depth[red_depth < 5]\n",
    "\n",
    "    ## linear regresion\n",
    "    red_coefs.append(np.polyfit(Zr_val, red_depth, 1))\n",
    "\n",
    "green_coefs = np.array(green_coefs)\n",
    "max_idx = green_coefs[:,0].argmax()\n",
    "green_coefs = np.delete(green_coefs, max_idx, 0)\n",
    "min_idx = green_coefs[:,0].argmin()\n",
    "green_coefs = np.delete(green_coefs, min_idx, 0)\n",
    "\n",
    "red_coefs = np.array(red_coefs)\n",
    "max_idx = red_coefs[:,0].argmax()\n",
    "red_coefs = np.delete(red_coefs, max_idx, 0)\n",
    "min_idx = red_coefs[:,0].argmin()\n",
    "red_coefs = np.delete(red_coefs, min_idx, 0)\n",
    "    \n",
    "gr_coef = [np.median(green_coefs[:,0]), np.median(green_coefs[:,1])]\n",
    "print(f'Green poly --> y = {gr_coef[0]:.4f}x + {gr_coef[1]:.4f}')\n",
    "red_coef = [np.median(red_coefs[:,0]), np.median(red_coefs[:,1])]\n",
    "print(f'Red poly --> y = {red_coef[0]:.4f}x + {red_coef[1]:.4f}')"
   ]
  },
  {
   "cell_type": "code",
   "execution_count": null,
   "metadata": {},
   "outputs": [],
   "source": [
    "#Zgreen & Zred\n",
    "poly_gr = np.poly1d(np.array(gr_coef))\n",
    "poly_red = np.poly1d(red_coef)\n",
    "\n",
    "## pSDBgreen & pSDBred\n",
    "pSDBgreen = poly_gr(Zgr)\n",
    "pSDBred = poly_red(Zr)"
   ]
  },
  {
   "cell_type": "markdown",
   "metadata": {},
   "source": [
    "## Switching"
   ]
  },
  {
   "cell_type": "code",
   "execution_count": null,
   "metadata": {},
   "outputs": [],
   "source": [
    "## Switching\n",
    "a, b, Switching_SDB = CS_method.switching_model(pSDBgreen, pSDBred, Zgr_coef = 3.5, Zr_coef = 2)"
   ]
  },
  {
   "cell_type": "markdown",
   "metadata": {},
   "source": [
    "## ODW"
   ]
  },
  {
   "cell_type": "code",
   "execution_count": null,
   "metadata": {},
   "outputs": [],
   "source": [
    "## ODW\n",
    "ODW_SDB = CS_method.odw_model(Switching_SDB, Rs492, Rs559, Rs704)\n",
    "mx = np.ma.masked_invalid(ODW_SDB)"
   ]
  },
  {
   "cell_type": "markdown",
   "metadata": {},
   "source": [
    "## Plot"
   ]
  },
  {
   "cell_type": "code",
   "execution_count": null,
   "metadata": {},
   "outputs": [],
   "source": [
    "y_true = -bathymetry[~mx.mask]\n",
    "y_pred = ODW_SDB[~mx.mask]\n",
    "diff = y_pred - y_true\n",
    "\n",
    "r2, MAE, MedAE, RMSE, MBE, MAPE = utils.scores(y_true, y_pred)\n",
    "r2_sub10, MAE_sub10, MedAE_sub10, RMSE_sub10, MBE_sub10, MAPE_sub10 = utils.scores(y_true[y_true<10], y_pred[y_true<10])\n",
    "r2_sup10, MAE_sup10, MedAE_sup10, RMSE_sup10, MBE_sup10, MAPE_sup10 = utils.scores(y_true[y_true>=10], y_pred[y_true>=10])\n",
    "\n",
    "# Calculate the point density\n",
    "x = y_true\n",
    "y = y_pred\n",
    "xy = np.vstack([x, y])\n",
    "z = gaussian_kde(xy)(xy)\n",
    "\n",
    "# Sort the points by density, so that the densest points are plotted last\n",
    "idx = z.argsort()\n",
    "x, y, z = x[idx], y[idx], z[idx]\n",
    "\n",
    "#Plot\n",
    "fig, axs = plt.subplots(1, 2, figsize=(16, 6.5))\n",
    "axs[0].scatter(x, y, c=z, s=10)\n",
    "ax_ = axs[0].scatter(x, y, c=z, s=10)\n",
    "plt.colorbar(ax_)\n",
    "axs[0].plot([0,16], [0,16], 'k-', c='r', alpha=0.75, zorder=0)\n",
    "axs[0].set_xlabel(\"In-situ Depth (m)\")\n",
    "axs[0].set_xlim(0,16)\n",
    "axs[0].set_xticks(np.arange(.0, 18., 4.0))\n",
    "axs[0].set_ylabel(\"SDB (m)\")\n",
    "axs[0].set_ylim(0,16)\n",
    "axs[0].set_yticks(np.arange(.0, 18., 4.0))\n",
    "axs[0].axis('square')\n",
    "\n",
    "fig.text(.1, .86, f\"$r^{2} = {r2:.2f}$\")\n",
    "fig.text(.1, .80, f\"$RMSE = {RMSE:.2f}$\")\n",
    "fig.text(.1, .74, f\"$N = {np.count_nonzero(~np.isnan(diff))}$\")\n",
    "\n",
    "axs[1].hist(diff[y_true<10], bins=80, alpha=0.5, label='$Depth<10m$', color='royalblue', density=True)\n",
    "axs[1].set_xlim(-6,6)\n",
    "axs[1].set_ylim(0, 1.5)\n",
    "axs[1].get_yaxis().set_visible(False)\n",
    "axs[1].set_xlabel(\"Residual error (m)\")\n",
    "axs[1].legend(loc=2, fontsize=20)\n",
    "fig.text(.53, .77, f\"$MBE={MBE_sub10:.2f}$\")\n",
    "fig.text(.53, .71, f\"$MedAE={MedAE_sub10:.2f}$\")\n",
    "fig.text(.53, .65, f\"$N={len(y_true[y_true<10])}$\")\n",
    "\n",
    "ax2 = axs[1].twinx()\n",
    "ax2.hist(diff[y_true>=10], bins=35, alpha=0.6, label='$Depth \\geq 10m$',color = 'darkorange', density=True)\n",
    "ax2.set_ylabel(\"density\")\n",
    "ax2.set_ylim(0, 1.5)\n",
    "ax2.legend(loc=1, fontsize=20)\n",
    "fig.text(.735, .77, f\"$MBE={MBE_sup10:.2f}$\")\n",
    "fig.text(.735, .71, f\"$MedAE={MedAE_sup10:.2f}$\")\n",
    "fig.text(.735, .65, f\"$N={len(y_true[y_true>=10])}$\")\n",
    "fig.text(.375, .96, f'{region} {year}')\n",
    "plt.tight_layout()"
   ]
  }
 ],
 "metadata": {
  "kernelspec": {
   "display_name": ".venv",
   "language": "python",
   "name": "python3"
  },
  "language_info": {
   "name": "python",
   "version": "3.10.12"
  }
 },
 "nbformat": 4,
 "nbformat_minor": 2
}
